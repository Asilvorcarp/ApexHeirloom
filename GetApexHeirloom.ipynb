{
 "cells": [
  {
   "cell_type": "code",
   "execution_count": 1,
   "metadata": {},
   "outputs": [],
   "source": [
    "import pyautogui as pg"
   ]
  },
  {
   "cell_type": "code",
   "execution_count": 2,
   "metadata": {},
   "outputs": [],
   "source": [
    "def subP(a: pg.Point, b: pg.Point):\n",
    "    return pg.position(a.x - b.x, a.y - b.y)\n",
    "def addP(a: pg.Point, b: pg.Point):\n",
    "    return pg.position(a.x + b.x, a.y + b.y)\n",
    "def addPs(*ps: pg.Point):\n",
    "    return pg.position(sum(p.x for p in ps), sum(p.y for p in ps))\n",
    "def mulP(p: pg.Point, times: int):\n",
    "    return pg.position(p.x * times, p.y * times)\n",
    "\n",
    "def regionAt(p: pg.Point, w: int, h: int):\n",
    "    return (p.x, p.y, w, h)\n",
    "def regionBetween(a: pg.Point, b: pg.Point):\n",
    "    return (a.x, a.y, b.x - a.x, b.y - a.y)"
   ]
  },
  {
   "cell_type": "code",
   "execution_count": 3,
   "metadata": {},
   "outputs": [
    {
     "name": "stdout",
     "output_type": "stream",
     "text": [
      "current mouse:  Point(x=1264, y=299)\n",
      "screen  size :  Size(width=2560, height=1440)\n"
     ]
    }
   ],
   "source": [
    "# current info\n",
    "print(\"current mouse: \", pg.position())\n",
    "print(\"screen  size : \", pg.size())\n",
    "scrSize = pg.size()\n",
    "\n",
    "apexSize = 1280, 720\n",
    "lib_prefix = \"lib/\"\n",
    "out_prefix = \"out/\""
   ]
  },
  {
   "cell_type": "code",
   "execution_count": 15,
   "metadata": {},
   "outputs": [
    {
     "name": "stdout",
     "output_type": "stream",
     "text": [
      "start point:  Point(x=640, y=360)\n"
     ]
    }
   ],
   "source": [
    "# Code Cell A\n",
    "\n",
    "# locate Apex by cursor after 3 seconds\n",
    "pg.sleep(3)\n",
    "# start = pg.position(scrSize.width/2 - apexSize[0]/2, scrSize.height/2 - apexSize[1]/2)\n",
    "start = pg.position()\n",
    "print(\"start point: \", start)\n",
    "pg.moveTo(start)"
   ]
  },
  {
   "cell_type": "code",
   "execution_count": 17,
   "metadata": {},
   "outputs": [],
   "source": [
    "# do measurements \n",
    "'''\n",
    "oriArr = []\n",
    "for i in range(0, 12):\n",
    "    pg.sleep(2)\n",
    "    pos = pg.position()\n",
    "    oriArr.append(pos)\n",
    "    print(i, \":\", pos, end=\" \")\n",
    "    if i != 0 and i % 4 == 0:\n",
    "        print()\n",
    "'''\n",
    "\n",
    "# dont measure again\n",
    "\n",
    "# oriArr = [\n",
    "#     pg.position(781, 666),\n",
    "#     pg.position(859, 662),\n",
    "#     pg.position(942, 661),\n",
    "#     pg.position(1026, 657),\n",
    "#     pg.position(1102, 658),\n",
    "#     pg.position(1182, 659),\n",
    "#     pg.position(753, 743),\n",
    "#     pg.position(837, 744),\n",
    "#     pg.position(913, 746),\n",
    "#     pg.position(994, 745),\n",
    "#     pg.position(1072, 745),\n",
    "#     pg.position(1154, 748),\n",
    "# ]\n",
    "\n",
    "# relArr = []\n",
    "# for ori in oriArr:\n",
    "#     rel = subP(ori, start)\n",
    "#     relArr.append(rel)\n",
    "#     print(rel)\n",
    "\n",
    "relArr = [\n",
    "    pg.position(219, 302),\n",
    "    pg.position(141, 306),\n",
    "    pg.position(302, 301),\n",
    "    pg.position(386, 297),\n",
    "    pg.position(462, 298),\n",
    "    pg.position(542, 299),\n",
    "    pg.position(113, 383),\n",
    "    pg.position(197, 384),\n",
    "    pg.position(273, 386),\n",
    "    pg.position(354, 385),\n",
    "    pg.position(432, 385),\n",
    "    pg.position(514, 388),\n",
    "]"
   ]
  },
  {
   "cell_type": "code",
   "execution_count": 18,
   "metadata": {},
   "outputs": [
    {
     "name": "stdout",
     "output_type": "stream",
     "text": [
      "next line:  Point(x=-28, y=77)\n",
      "next item:  Point(x=80, y=0)\n",
      "ash:  Point(x=137, y=537)\n"
     ]
    }
   ],
   "source": [
    "# simple test\n",
    "dogRel = relArr[0]\n",
    "nextLine = subP(relArr[6], relArr[0])\n",
    "nextItem = pg.position((relArr[5].x - relArr[0].x)/5, 0)\n",
    "print(\"next line: \", nextLine)\n",
    "print(\"next item: \", nextItem)\n",
    "ashRel = addPs(dogRel, mulP(nextLine, 3), mulP(nextItem, 1))\n",
    "print(\"ash: \", ashRel)\n",
    "\n",
    "def getLegendPos(x: int, y: int):\n",
    "    return addPs(start, dogRel, mulP(nextLine, y), mulP(nextItem, x))\n",
    "# E.g.: Valkyrie - getLegendPos(4, 2)"
   ]
  },
  {
   "cell_type": "code",
   "execution_count": 7,
   "metadata": {},
   "outputs": [
    {
     "name": "stdout",
     "output_type": "stream",
     "text": [
      "esc : None\n",
      "legend : None\n",
      "menu : None\n",
      "yes : None\n",
      "settings : None\n",
      "continue : None\n"
     ]
    }
   ],
   "source": [
    "# init\n",
    "\n",
    "# the button array\n",
    "butArr = {\n",
    "    \"esc\": 0.9,\n",
    "    \"legend\": 0.7,\n",
    "    \"menu\": 0.7,\n",
    "    \"yes\": 0.75,\n",
    "    \"settings\": 0.9,\n",
    "    \"continue\": 0.9,\n",
    "}\n",
    "\n",
    "def initAllNone():\n",
    "    for but, _ in butArr.items():\n",
    "        globals()[but] = None\n",
    "\n",
    "def captureAll():\n",
    "    flag = True\n",
    "    for but, cfd in butArr.items():\n",
    "        if globals()[but] is None:\n",
    "            flag = False\n",
    "            pos = pg.locateCenterOnScreen(prefix + but + \".png\",\n",
    "                                          region=regionAt(start, *apexSize),\n",
    "                                          confidence=cfd)\n",
    "            if pos is not None:\n",
    "                globals()[but] = pos\n",
    "                print(\"got\", but, \":\", pos)\n",
    "    if flag:\n",
    "        print(\"all captured\")\n",
    "    return flag\n",
    "\n",
    "def printAll():\n",
    "    for but, _ in butArr.items():\n",
    "        print(but, \":\", globals()[but])\n",
    "\n",
    "initAllNone()\n",
    "printAll()"
   ]
  },
  {
   "cell_type": "code",
   "execution_count": 8,
   "metadata": {},
   "outputs": [
    {
     "name": "stdout",
     "output_type": "stream",
     "text": [
      "got continue : Point(x=1280, y=793)\n",
      "got esc : Point(x=694, y=1032)\n",
      "got settings : Point(x=1868, y=1022)\n",
      "got legend : Point(x=1270, y=388)\n",
      "got menu : Point(x=1716, y=1030)\n",
      "got yes : Point(x=1203, y=839)\n",
      "all captured\n",
      "esc : Point(x=694, y=1032)\n",
      "legend : Point(x=1270, y=388)\n",
      "menu : Point(x=1716, y=1030)\n",
      "yes : Point(x=1203, y=839)\n",
      "settings : Point(x=1868, y=1022)\n",
      "continue : Point(x=1280, y=793)\n",
      "capture done.\n",
      "\n"
     ]
    }
   ],
   "source": [
    "# Code Cell B\n",
    "\n",
    "# captureAll until done\n",
    "\n",
    "# for i in range(30):\n",
    "while True:\n",
    "    pg.sleep(1)\n",
    "    done = captureAll()\n",
    "    if done:\n",
    "        break\n",
    "printAll()\n",
    "print(\"\\ncapture done.\")"
   ]
  },
  {
   "cell_type": "code",
   "execution_count": 19,
   "metadata": {
    "notebookRunGroups": {
     "groupValue": ""
    }
   },
   "outputs": [
    {
     "name": "stdout",
     "output_type": "stream",
     "text": [
      "showPa Point(x=781, y=666)\n",
      "showPb Point(x=885, y=820)\n"
     ]
    }
   ],
   "source": [
    "# click things\n",
    "def moveAndClick(pos: pg.Point):\n",
    "    pg.moveTo(pos)\n",
    "    pg.sleep(0.01)\n",
    "    pg.click()\n",
    "\n",
    "def locateAndClick(stem: str, cfd: float, region = regionAt(start, *apexSize)):\n",
    "    pos = pg.locateCenterOnScreen(prefix + stem + \".png\",\n",
    "                                  region=region,\n",
    "                                  confidence=cfd)\n",
    "    flag = pos is not None\n",
    "    if flag:\n",
    "        moveAndClick(pos)\n",
    "        # print(\"clicked\", stem, \":\", pos)\n",
    "    return flag\n",
    "\n",
    "def tryLocating(stem: str, cfd: float, \n",
    "                region = regionAt(start, *apexSize), \n",
    "                max: int = 3, interval: float = 0):\n",
    "    for _ in range(max):\n",
    "        if locateAndClick(stem, cfd, region):\n",
    "            return True\n",
    "        pg.sleep(interval)\n",
    "    return False\n",
    "\n",
    "def keepLocating(but: str, cfd: float):\n",
    "    while True:\n",
    "        pg.sleep(0.001)\n",
    "        if locateAndClick(but, cfd):\n",
    "            break\n",
    "\n",
    "def moveAndClickBut(but: str):\n",
    "    moveAndClick(globals()[but])\n",
    "\n",
    "def clickTill(but: str, done):\n",
    "    while True:\n",
    "        # TODO make it possible to interrupt\n",
    "        moveAndClickBut(but)\n",
    "        if done():\n",
    "            break\n",
    "\n",
    "def clickArray(*arr: str):\n",
    "    for but in arr:\n",
    "        keepLocating(but, butArr[but])\n",
    "\n",
    "def clickLegend(x: int, y: int):\n",
    "    moveAndClick(getLegendPos(x, y))\n",
    "\n",
    "def typeArray(*arr: str):\n",
    "    for but in arr:\n",
    "        pg.press(but)\n",
    "\n",
    "# TODO make region smaller (for \"continue\")\n",
    "\n",
    "# def routine():\n",
    "#     clickArray(\"continue\", \"legend\")\n",
    "#     clickLegend(4, 2)\n",
    "#     pg.sleep(0.5) # mannul judge for now\n",
    "#     clickArray(\"esc\", \"esc\", \"settings\", \"menu\", \"yes\")\n",
    "\n",
    "# def routine():\n",
    "#     clickArray(\"continue\", \"legend\")\n",
    "#     pg.sleep(0.05)\n",
    "#     clickLegend(4, 2)\n",
    "#     pg.sleep(0.7) # mannul judge for now\n",
    "#     typeArray(\"esc\", \"esc\", \"esc\")\n",
    "#     pg.sleep(0.01)\n",
    "#     moveAndClickBut(\"menu\")\n",
    "#     pg.sleep(0.01)\n",
    "#     moveAndClickBut(\"yes\")\n",
    "\n",
    "showPa = addPs(start, relArr[0])\n",
    "showPb = addPs(showPa, mulP(nextLine, 2), mulP(nextItem, 2))\n",
    "print(\"showPa\", showPa)\n",
    "print(\"showPb\", showPb)\n",
    "\n",
    "heirPa = addPs(start, pg.position(1032, 500))\n",
    "heirPb = addPs(start, pg.position(1121, 569))\n",
    "\n",
    "def tillLegendsShow():\n",
    "    pos = pg.locateCenterOnScreen(prefix + \"legendShow.png\",\n",
    "                    region=regionBetween(showPa, showPb))\n",
    "    return pos is not None\n",
    "\n",
    "stayAtLegend = 0.3\n",
    "\n",
    "def routineForOne(x, y):\n",
    "    clickArray(\"continue\")\n",
    "    clickTill(\"legend\", tillLegendsShow)\n",
    "    # TODO detect: if no white lines, quit\n",
    "    clickLegend(x, y)\n",
    "    pg.sleep(0.08)\n",
    "    gotcha = tryLocating(\"heirloom\", cfd=0.8, max=3, interval=0, \n",
    "                region=regionBetween(heirPa, heirPb))\n",
    "    # pg.sleep(stayAtLegend) # mannul judge\n",
    "    if gotcha:\n",
    "        return True\n",
    "    typeArray(\"esc\", \"esc\", \"esc\")\n",
    "    pg.sleep(0.001)\n",
    "    moveAndClickBut(\"menu\")\n",
    "    pg.sleep(0.001)\n",
    "    moveAndClickBut(\"yes\")\n",
    "\n",
    "def routineForAll(legendPosArr: list):\n",
    "    ret = []\n",
    "    clickArray(\"continue\")\n",
    "    clickTill(\"legend\", tillLegendsShow)\n",
    "    # TODO detect: if no white lines, quit\n",
    "    for i, pos in enumerate(legendPosArr):\n",
    "        clickLegend(*pos)\n",
    "        pg.sleep(0.08)\n",
    "        gotcha = tryLocating(\"heirloom\", cfd=0.8, max=3, interval=0, \n",
    "                    region=regionBetween(heirPa, heirPb))\n",
    "        # TODO detect: if has heirloom, seen as gotcha\n",
    "        if not gotcha:\n",
    "            if ret != []:\n",
    "                return ret\n",
    "            typeArray(\"esc\", \"esc\", \"esc\")\n",
    "            pg.sleep(0.001)\n",
    "            moveAndClickBut(\"menu\")\n",
    "            pg.sleep(0.001)\n",
    "            moveAndClickBut(\"yes\")\n",
    "            return ret\n",
    "        ret.append(i)\n",
    "        # judge if really gotcha by the screenshot\n",
    "        pg.screenshot(out_prefix + \"_gotcha \" + str(i) + \".png\", region=regionAt(start, *apexSize))\n",
    "        typeArray(\"esc\")\n",
    "    return ret"
   ]
  },
  {
   "cell_type": "code",
   "execution_count": 23,
   "metadata": {},
   "outputs": [],
   "source": [
    "# get one heirloom and quit when succeed\n",
    "def GetHeirloom(legendPos: tuple):\n",
    "    count = 0\n",
    "    while True:\n",
    "        print(\"round\", count)\n",
    "        gotcha = routineForOne(*legendPos)\n",
    "        if gotcha:\n",
    "            print(\"Gotcha!\")\n",
    "            print(\"Just exit the game to finish. LOL.\")\n",
    "            break\n",
    "        count += 1\n",
    "\n",
    "# keep on getting heirloom provided enough glitch time\n",
    "def GetHeirlooms(legendPosArr: list):\n",
    "    count = 0\n",
    "    while True:\n",
    "        print(\"round\", count)\n",
    "        gotchaArr = routineForAll(legendPosArr)\n",
    "        if gotchaArr:\n",
    "            print(\"Gotcha! At\", gotchaArr)\n",
    "            print(\"Just exit the game to finish. LOL.\")\n",
    "            break\n",
    "        count += 1"
   ]
  },
  {
   "cell_type": "code",
   "execution_count": 24,
   "metadata": {},
   "outputs": [
    {
     "name": "stdout",
     "output_type": "stream",
     "text": [
      "round 0\n",
      "round 1\n",
      "round 2\n",
      "round 3\n",
      "round 4\n",
      "round 5\n",
      "Interrupted by user\n"
     ]
    }
   ],
   "source": [
    "# Code Cell C\n",
    "\n",
    "# Sorted by the order of position\n",
    "Bloodhound = (0, 0) # 🐶子\n",
    "Gibraltar = (1, 0) # 直布罗陀\n",
    "Lifeline = (2, 0) # 奶妈\n",
    "Pathfinder = (3, 0) # 探路者\n",
    "Wraith = (4, 0) # 恶灵\n",
    "Bangalore = (5, 0) # 班加罗尔\n",
    "Caustic = (1, 0) # 屁男\n",
    "Mirage = (1, 1) # 幻象\n",
    "Octane = (2, 1) # 动力牛子\n",
    "Wattson = (3, 1) # 电妹\n",
    "Crypto = (4, 1) # 密客\n",
    "Revenant = (5, 1) # 亡灵\n",
    "Loba = (0, 2) # 罗芭\n",
    "Rampart = (1, 2) # 兰伯特\n",
    "Valkyrie = (4, 2) # 瓦🐔\n",
    "# Those who dont have heirloom\n",
    "    # Ash\n",
    "    # Fuse\n",
    "    # Horizon\n",
    "    # Seer\n",
    "    # ...\n",
    "\n",
    "legendArr = [\n",
    "    Wraith,\n",
    "    Valkyrie,\n",
    "    Octane,\n",
    "    Loba,\n",
    "    Crypto,\n",
    "    Pathfinder,\n",
    "]\n",
    "\n",
    "# just get the first one (more stable)\n",
    "just_first = True\n",
    "\n",
    "try:\n",
    "    if just_first:\n",
    "        GetHeirloom(legendArr[0])\n",
    "    else:\n",
    "        GetHeirlooms(legendArr)\n",
    "except KeyboardInterrupt:\n",
    "    print(\"Interrupted by user\")"
   ]
  },
  {
   "cell_type": "code",
   "execution_count": null,
   "metadata": {},
   "outputs": [],
   "source": [
    "\n"
   ]
  }
 ],
 "metadata": {
  "kernelspec": {
   "display_name": "Python 3.8.5 64-bit",
   "language": "python",
   "name": "python3"
  },
  "language_info": {
   "codemirror_mode": {
    "name": "ipython",
    "version": 3
   },
   "file_extension": ".py",
   "mimetype": "text/x-python",
   "name": "python",
   "nbconvert_exporter": "python",
   "pygments_lexer": "ipython3",
   "version": "3.8.5"
  },
  "orig_nbformat": 4,
  "vscode": {
   "interpreter": {
    "hash": "e42634819b8c191a5d07eaf23810ff32516dd8d3875f28ec3e488928fbd3c187"
   }
  }
 },
 "nbformat": 4,
 "nbformat_minor": 2
}
